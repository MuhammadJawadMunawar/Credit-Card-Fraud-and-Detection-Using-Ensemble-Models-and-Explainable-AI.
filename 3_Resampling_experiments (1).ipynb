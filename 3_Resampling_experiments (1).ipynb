{
  "nbformat": 4,
  "nbformat_minor": 0,
  "metadata": {
    "colab": {
      "provenance": []
    },
    "kernelspec": {
      "name": "python3",
      "display_name": "Python 3"
    },
    "language_info": {
      "name": "python"
    }
  },
  "cells": [
    {
      "cell_type": "markdown",
      "source": [
        "## 3. Resampling Experiments (SMOTE, ADASYN, Tomek Links)"
      ],
      "metadata": {
        "id": "ZjgGfAebZx6d"
      }
    },
    {
      "cell_type": "code",
      "execution_count": null,
      "metadata": {
        "id": "8Y-JSNfEZbPg"
      },
      "outputs": [],
      "source": [
        "# 3_resampling_experiments.ipynb\n",
        "\n",
        "import numpy as np\n",
        "import pandas as pd\n",
        "from imblearn.over_sampling import SMOTE, ADASYN\n",
        "from imblearn.under_sampling import TomekLinks\n",
        "from sklearn.model_selection import train_test_split\n",
        "from sklearn.preprocessing import StandardScaler\n",
        "\n",
        "# 3.1 Load engineered data\n",
        "df = pd.read_parquet(\"creditcard_engineered.parquet\")"
      ]
    },
    {
      "cell_type": "code",
      "source": [
        "X = df.drop(columns=\"Class\")\n",
        "y = df[\"Class\"]\n",
        "\n",
        "# 3.2 Standardize features (especially Amount, TimeDelta, rolling stats)\n",
        "scaler = StandardScaler()\n",
        "X_scaled = scaler.fit_transform(X)\n",
        "\n",
        "# 3.3 Split into train/test (70:30, per proposal)\n",
        "X_train, X_test, y_train, y_test = train_test_split(\n",
        "    X_scaled, y, test_size=0.30, stratify=y, random_state=42\n",
        ")"
      ],
      "metadata": {
        "id": "5mc6L6PvZ9mp"
      },
      "execution_count": null,
      "outputs": []
    },
    {
      "cell_type": "code",
      "source": [
        "# 3.4 Apply resampling techniques on training set only\n",
        "#     3.4.1 SMOTE\n",
        "smote = SMOTE(random_state=42)\n",
        "X_smote, y_smote = smote.fit_resample(X_train, y_train)\n",
        "\n",
        "#     3.4.2 ADASYN\n",
        "adasyn = ADASYN(random_state=42)\n",
        "X_adasyn, y_adasyn = adasyn.fit_resample(X_train, y_train)\n",
        "\n",
        "#     3.4.3 Tomek Links (undersampling majority)\n",
        "tomek = TomekLinks()\n",
        "X_tomek, y_tomek = tomek.fit_resample(X_train, y_train)"
      ],
      "metadata": {
        "id": "c0SrASw7Z-cc"
      },
      "execution_count": null,
      "outputs": []
    },
    {
      "cell_type": "code",
      "source": [
        "# 3.5 Print resulting class distributions\n",
        "def print_distribution(name, y_arr):\n",
        "    unique, counts = np.unique(y_arr, return_counts=True)\n",
        "    print(f\"{name} distribution: {dict(zip(unique, counts))}\")\n",
        "\n",
        "print_distribution(\"Original train\", y_train)\n",
        "print_distribution(\"SMOTE train\", y_smote)\n",
        "print_distribution(\"ADASYN train\", y_adasyn)\n",
        "print_distribution(\"Tomek train\", y_tomek)"
      ],
      "metadata": {
        "id": "gDhrnL64aBd1"
      },
      "execution_count": null,
      "outputs": []
    },
    {
      "cell_type": "code",
      "source": [
        "# SMOTE\n",
        "pd.DataFrame(X_smote).to_parquet(\"X_train_smote.parquet\")\n",
        "pd.DataFrame(y_smote, columns=[\"Class\"]).to_parquet(\"y_train_smote.parquet\")\n",
        "# — or equivalently —\n",
        "# pd.Series(y_smote, name=\"Class\").to_frame().to_parquet(\"y_train_smote.parquet\")\n",
        "\n",
        "# ADASYN\n",
        "pd.DataFrame(X_adasyn).to_parquet(\"X_train_adasyn.parquet\")\n",
        "pd.DataFrame(y_adasyn, columns=[\"Class\"]).to_parquet(\"y_train_adasyn.parquet\")\n",
        "\n",
        "# Tomek Links\n",
        "pd.DataFrame(X_tomek).to_parquet(\"X_train_tomek.parquet\")\n",
        "pd.DataFrame(y_tomek, columns=[\"Class\"]).to_parquet(\"y_train_tomek.parquet\")\n",
        "\n",
        "# Also save the original (unresampled) splits\n",
        "pd.DataFrame(X_train).to_parquet(\"X_train_orig.parquet\")\n",
        "pd.DataFrame(y_train, columns=[\"Class\"]).to_parquet(\"y_train_orig.parquet\")\n",
        "\n",
        "pd.DataFrame(X_test).to_parquet(\"X_test.parquet\")\n",
        "pd.DataFrame(y_test, columns=[\"Class\"]).to_parquet(\"y_test.parquet\")"
      ],
      "metadata": {
        "id": "G3e4OeuKaEKd"
      },
      "execution_count": null,
      "outputs": []
    }
  ]
}